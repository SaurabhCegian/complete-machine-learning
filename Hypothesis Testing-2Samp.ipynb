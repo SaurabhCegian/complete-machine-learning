{
 "cells": [
  {
   "cell_type": "markdown",
   "metadata": {},
   "source": [
    "# Hypothesis Testing"
   ]
  },
  {
   "cell_type": "markdown",
   "metadata": {},
   "source": [
    "### H0: Marriage age of male in India and USA are same\n",
    "### Ha: Marriage age of male in India and USA are not same"
   ]
  },
  {
   "cell_type": "code",
   "execution_count": 5,
   "metadata": {},
   "outputs": [],
   "source": [
    "mar_age_india = [29,30,25,24,32,27,29,34,33,32,29,28,30,31,32,29]\n",
    "mar_age_usa = [39,30,29,29,33,32,39,34,33,32,29,34,32,31,32,29]"
   ]
  },
  {
   "cell_type": "code",
   "execution_count": 6,
   "metadata": {},
   "outputs": [],
   "source": [
    "from scipy import stats"
   ]
  },
  {
   "cell_type": "code",
   "execution_count": 7,
   "metadata": {},
   "outputs": [
    {
     "name": "stdout",
     "output_type": "stream",
     "text": [
      "Skew India:  -0.4457274903384464\n",
      "Kurtosis India:  -0.39217485810892416\n",
      "Skew USA:  1.0016274012896176\n",
      "Kurtosis USA:  0.3343528819394339\n"
     ]
    }
   ],
   "source": [
    "print(\"Skew India: \", stats.skew(mar_age_india))\n",
    "print(\"Kurtosis India: \", stats.kurtosis(mar_age_india))\n",
    "print(\"Skew USA: \", stats.skew(mar_age_usa))\n",
    "print(\"Kurtosis USA: \", stats.kurtosis(mar_age_usa))"
   ]
  },
  {
   "cell_type": "markdown",
   "metadata": {},
   "source": [
    "## Two Sample T-Test"
   ]
  },
  {
   "cell_type": "code",
   "execution_count": 8,
   "metadata": {},
   "outputs": [
    {
     "data": {
      "text/plain": [
       "Ttest_indResult(statistic=-2.5761900559924533, pvalue=0.015156202365125453)"
      ]
     },
     "execution_count": 8,
     "metadata": {},
     "output_type": "execute_result"
    }
   ],
   "source": [
    "stats.ttest_ind(mar_age_india, mar_age_usa)"
   ]
  },
  {
   "cell_type": "markdown",
   "metadata": {},
   "source": [
    "pvalue=1.51%, pvalue < 5%, so we reject null hypothesis and accept Ha(alternate hypothesis)\n",
    "Marriage of male in india and USA are not same\n",
    "statistic=-2.57(t-value) tells that age in India is less than USA"
   ]
  },
  {
   "cell_type": "code",
   "execution_count": null,
   "metadata": {},
   "outputs": [],
   "source": []
  }
 ],
 "metadata": {
  "kernelspec": {
   "display_name": "Python 3",
   "language": "python",
   "name": "python3"
  },
  "language_info": {
   "codemirror_mode": {
    "name": "ipython",
    "version": 3
   },
   "file_extension": ".py",
   "mimetype": "text/x-python",
   "name": "python",
   "nbconvert_exporter": "python",
   "pygments_lexer": "ipython3",
   "version": "3.7.6"
  }
 },
 "nbformat": 4,
 "nbformat_minor": 4
}

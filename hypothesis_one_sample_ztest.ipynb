{
  "nbformat": 4,
  "nbformat_minor": 0,
  "metadata": {
    "colab": {
      "name": "hypothesis_one_sample_ztest.ipynb",
      "provenance": []
    },
    "kernelspec": {
      "name": "python3",
      "display_name": "Python 3"
    },
    "language_info": {
      "name": "python"
    }
  },
  "cells": [
    {
      "cell_type": "code",
      "metadata": {
        "id": "23XsXP-62lnw"
      },
      "source": [
        "import numpy as np\n",
        "import pandas as pd\n",
        "from scipy import stats\n",
        "from statsmodels.stats import weightstats as stest\n",
        "import math"
      ],
      "execution_count": 24,
      "outputs": []
    },
    {
      "cell_type": "code",
      "metadata": {
        "id": "TkkvSZLb2wEb"
      },
      "source": [
        "mar_age_india = [29,30,25,24,32,27,29,34,33,32,29,28,30,31,32,29]"
      ],
      "execution_count": 25,
      "outputs": []
    },
    {
      "cell_type": "markdown",
      "metadata": {
        "id": "hlisdbv76eTx"
      },
      "source": [
        "**One sample z-test using scipy**"
      ]
    },
    {
      "cell_type": "code",
      "metadata": {
        "colab": {
          "base_uri": "https://localhost:8080/"
        },
        "id": "GOPlwzKI21Nr",
        "outputId": "842c7f97-5e0f-4c61-c1bb-3eee56fbbf75"
      },
      "source": [
        "ztest, pvalue = stests.ztest(mar_age_india, x2=None, value=30)\n",
        "print(ztest, pvalue)\n",
        "if(pvalue > 0.05):\n",
        "  print('We failed to reject Null Hypthesis')\n",
        "else:\n",
        "  print('Accept Alternate Hypthesis')"
      ],
      "execution_count": 26,
      "outputs": [
        {
          "output_type": "stream",
          "text": [
            "-0.5447047794019222 0.5859565771946524\n",
            "We failed to reject Null Hypthesis\n"
          ],
          "name": "stdout"
        }
      ]
    },
    {
      "cell_type": "markdown",
      "metadata": {
        "id": "J22XcBpf6nGj"
      },
      "source": [
        "**One sample z-test without using any library**"
      ]
    },
    {
      "cell_type": "code",
      "metadata": {
        "id": "XWuFqLSG23_l"
      },
      "source": [
        "mar_age_nepal = [29,30,25,24,32,27,29,34,33,32,29,28,30,31,32,29,21,34,21,23,26,28,31,33,32,37,29,20,31,27,26,25,29,22,23,24,30,31]"
      ],
      "execution_count": 27,
      "outputs": []
    },
    {
      "cell_type": "code",
      "metadata": {
        "id": "J6rC3j1-7HXF"
      },
      "source": [
        "sample_mean = 30\n",
        "population_mean = np.mean(mar_age_nepal)\n",
        "population_std = np.std(mar_age_nepal)\n",
        "sample_size = 30"
      ],
      "execution_count": 28,
      "outputs": []
    },
    {
      "cell_type": "code",
      "metadata": {
        "colab": {
          "base_uri": "https://localhost:8080/"
        },
        "id": "BRjP6GTB7lqs",
        "outputId": "5a7b4b3a-da07-4406-e27a-8e08ea8e8794"
      },
      "source": [
        "zscore = (sample_mean - population_mean)/(population_std/math.sqrt(sample_size))\n",
        "zscore"
      ],
      "execution_count": 29,
      "outputs": [
        {
          "output_type": "execute_result",
          "data": {
            "text/plain": [
              "2.2398805428898187"
            ]
          },
          "metadata": {
            "tags": []
          },
          "execution_count": 29
        }
      ]
    },
    {
      "cell_type": "code",
      "metadata": {
        "colab": {
          "base_uri": "https://localhost:8080/"
        },
        "id": "WEY55ZUZ70Ui",
        "outputId": "5b85e821-70c2-4471-f831-8ca501b78de4"
      },
      "source": [
        "pval = 2*(1-stats.norm.cdf(abs(zscore)))\n",
        "print(pval)\n",
        "if(pval > 0.05):\n",
        "  print('We failed to reject Null Hypthesis')\n",
        "else:\n",
        "  print('Accept Alternate Hypthesis')"
      ],
      "execution_count": 30,
      "outputs": [
        {
          "output_type": "stream",
          "text": [
            "0.0250986791286123\n",
            "Accept Alternate Hypthesis\n"
          ],
          "name": "stdout"
        }
      ]
    },
    {
      "cell_type": "code",
      "metadata": {
        "id": "qPGB_n4S8Zqa"
      },
      "source": [
        ""
      ],
      "execution_count": null,
      "outputs": []
    }
  ]
}